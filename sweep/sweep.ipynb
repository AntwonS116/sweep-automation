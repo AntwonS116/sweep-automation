{
 "cells": [
  {
   "cell_type": "code",
   "execution_count": 1,
   "metadata": {},
   "outputs": [],
   "source": [
    "from webdriver_manager.chrome import ChromeDriverManager\n",
    "from selenium import webdriver\n",
    "import time\n",
    "from selenium.webdriver.support.ui import WebDriverWait\n",
    "from selenium.webdriver.support import expected_conditions as EC\n",
    "from selenium.webdriver.common.by import By"
   ]
  },
  {
   "cell_type": "code",
   "execution_count": 2,
   "metadata": {},
   "outputs": [
    {
     "name": "stderr",
     "output_type": "stream",
     "text": [
      "\n",
      "\n",
      "====== WebDriver manager ======\n",
      "Current google-chrome version is 100.0.4896\n",
      "Get LATEST chromedriver version for 100.0.4896 google-chrome\n",
      "Trying to download new driver from https://chromedriver.storage.googleapis.com/100.0.4896.60/chromedriver_win32.zip\n",
      "Driver has been saved in cache [C:\\Users\\astevens\\.wdm\\drivers\\chromedriver\\win32\\100.0.4896.60]\n"
     ]
    }
   ],
   "source": [
    "driver = webdriver.Chrome(ChromeDriverManager().install())"
   ]
  },
  {
   "cell_type": "code",
   "execution_count": 3,
   "metadata": {},
   "outputs": [],
   "source": [
    "url = \"https://go.microsoft.com/fwlink/?LinkId=2106760&clcid=0x409\"\n",
    "driver.get(url)"
   ]
  },
  {
   "cell_type": "code",
   "execution_count": 4,
   "metadata": {},
   "outputs": [],
   "source": [
    "frame = driver.find_element_by_tag_name(\"iframe\")\n",
    "driver.switch_to.frame(frame)"
   ]
  },
  {
   "cell_type": "code",
   "execution_count": 5,
   "metadata": {},
   "outputs": [],
   "source": [
    "for x in range(0, 8000):\n",
    "    try:\n",
    "        time.sleep(0.5)\n",
    "\n",
    "        process = driver.find_element_by_xpath(\"//span[@aria-label='Process']\")\n",
    "        process.click()\n",
    "\n",
    "        time.sleep(0.5)\n",
    "\n",
    "        create_pick = driver.find_element_by_xpath(\"//span[@aria-label='Create Pick...']\")\n",
    "        create_pick.click()\n",
    "\n",
    "        time.sleep(1)\n",
    "\n",
    "        first_verification = driver.find_element_by_xpath(\"//body/div/div/form[@role='dialog']/div/div/div/button[1]\")\n",
    "        first_verification.click()\n",
    "\n",
    "        time.sleep(1)\n",
    "\n",
    "        second_verification = driver.find_element_by_xpath(\"//span[normalize-space()='OK']\")\n",
    "        second_verification.click()\n",
    "\n",
    "        time.sleep(1)\n",
    "\n",
    "        next_shipline = driver.find_element_by_xpath(\"//i[contains(text(),'')]\")\n",
    "        next_shipline.click()\n",
    "\n",
    "    except:\n",
    "        pass"
   ]
  }
 ],
 "metadata": {
  "interpreter": {
   "hash": "53b8048063f1c3f8ced6588f0f7517e9b1cf641f1da5565391288cdd3d416c1b"
  },
  "kernelspec": {
   "display_name": "Python 3.9.7 ('base')",
   "language": "python",
   "name": "python3"
  },
  "language_info": {
   "codemirror_mode": {
    "name": "ipython",
    "version": 3
   },
   "file_extension": ".py",
   "mimetype": "text/x-python",
   "name": "python",
   "nbconvert_exporter": "python",
   "pygments_lexer": "ipython3",
   "version": "3.9.7"
  },
  "orig_nbformat": 4
 },
 "nbformat": 4,
 "nbformat_minor": 2
}
