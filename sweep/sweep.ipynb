{
 "cells": [
  {
   "cell_type": "code",
   "execution_count": 37,
   "metadata": {},
   "outputs": [],
   "source": [
    "from webdriver_manager.chrome import ChromeDriverManager\n",
    "from selenium import webdriver\n",
    "import time\n",
    "from selenium.webdriver.support.ui import WebDriverWait\n",
    "from selenium.webdriver.support import expected_conditions as EC\n",
    "from selenium.webdriver.common.by import By"
   ]
  },
  {
   "cell_type": "code",
   "execution_count": 39,
   "metadata": {},
   "outputs": [
    {
     "name": "stderr",
     "output_type": "stream",
     "text": [
      "[WDM] - \n",
      "\n",
      "[WDM] - ====== WebDriver manager ======\n",
      "[WDM] - Current google-chrome version is 96.0.4664\n",
      "[WDM] - Get LATEST driver version for 96.0.4664\n",
      "[WDM] - Driver [C:\\Users\\Antwon\\.wdm\\drivers\\chromedriver\\win32\\96.0.4664.45\\chromedriver.exe] found in cache\n"
     ]
    }
   ],
   "source": [
    "driver = webdriver.Chrome(ChromeDriverManager().install())"
   ]
  },
  {
   "cell_type": "code",
   "execution_count": 40,
   "metadata": {},
   "outputs": [],
   "source": [
    "url = \"https://businesscentral.dynamics.com/?company=AMD%20Medicom%20Inc&page=7335&dc=0&bookmark=35%3bmBwAAAJ7%2f0EATQBEAC0AUwBIADAAMAAwADQAMQA0\"\n",
    "driver.get(url)"
   ]
  },
  {
   "cell_type": "code",
   "execution_count": 41,
   "metadata": {},
   "outputs": [],
   "source": [
    "url = \"https://businesscentral.dynamics.com/?company=AMD%20Medicom%20Inc&page=7335&dc=0&bookmark=35%3bmBwAAAJ7%2f0EATQBEAC0AUwBIADAAMAAwADQAMQA0\"\n",
    "driver.get(url)"
   ]
  },
  {
   "cell_type": "code",
   "execution_count": 42,
   "metadata": {},
   "outputs": [],
   "source": [
    "frame = driver.find_element_by_tag_name(\"iframe\")\n",
    "driver.switch_to.frame(frame)"
   ]
  },
  {
   "cell_type": "code",
   "execution_count": 43,
   "metadata": {},
   "outputs": [],
   "source": [
    "process = driver.find_element_by_xpath(\"//span[@aria-label='Process']\")\n",
    "process.click()"
   ]
  },
  {
   "cell_type": "code",
   "execution_count": 44,
   "metadata": {},
   "outputs": [],
   "source": [
    "create_pick = driver.find_element_by_xpath(\"//span[@aria-label='Create Pick...']\")\n",
    "create_pick.click()"
   ]
  },
  {
   "cell_type": "code",
   "execution_count": 45,
   "metadata": {},
   "outputs": [],
   "source": [
    "first_verification = driver.find_element_by_xpath(\"//body/div/div/form[@role='dialog']/div/div/div/button[1]\")\n",
    "first_verification.click()"
   ]
  },
  {
   "cell_type": "code",
   "execution_count": 46,
   "metadata": {},
   "outputs": [],
   "source": [
    "second_verification = driver.find_element_by_xpath(\"//span[normalize-space()='OK']\")\n",
    "second_verification.click()"
   ]
  },
  {
   "cell_type": "code",
   "execution_count": 47,
   "metadata": {},
   "outputs": [],
   "source": [
    "next_shipline = driver.find_element_by_xpath(\"//i[contains(text(),'')]\")\n",
    "next_shipline.click()"
   ]
  },
  {
   "cell_type": "code",
   "execution_count": 49,
   "metadata": {},
   "outputs": [],
   "source": [
    "for x in range(1, 10):\n",
    "    try:\n",
    "        time.sleep(0.5)\n",
    "\n",
    "        process = driver.find_element_by_xpath(\"//span[@aria-label='Process']\")\n",
    "        process.click()\n",
    "\n",
    "        time.sleep(0.5)\n",
    "\n",
    "        create_pick = driver.find_element_by_xpath(\"//span[@aria-label='Create Pick...']\")\n",
    "        create_pick.click()\n",
    "\n",
    "        time.sleep(1)\n",
    "\n",
    "        first_verification = driver.find_element_by_xpath(\"//body/div/div/form[@role='dialog']/div/div/div/button[1]\")\n",
    "        first_verification.click()\n",
    "\n",
    "        time.sleep(1)\n",
    "\n",
    "        second_verification = driver.find_element_by_xpath(\"//span[normalize-space()='OK']\")\n",
    "        second_verification.click()\n",
    "\n",
    "        time.sleep(1)\n",
    "\n",
    "        next_shipline = driver.find_element_by_xpath(\"//i[contains(text(),'')]\")\n",
    "        next_shipline.click()\n",
    "\n",
    "    except:\n",
    "        print(\"Error\")"
   ]
  }
 ],
 "metadata": {
  "interpreter": {
   "hash": "c36b75ead49fede5ca4c7f5a618ce1e3bfb4b3a0f4512cc32c001d2e83619906"
  },
  "kernelspec": {
   "display_name": "Python 3.9.6 64-bit",
   "language": "python",
   "name": "python3"
  },
  "language_info": {
   "codemirror_mode": {
    "name": "ipython",
    "version": 3
   },
   "file_extension": ".py",
   "mimetype": "text/x-python",
   "name": "python",
   "nbconvert_exporter": "python",
   "pygments_lexer": "ipython3",
   "version": "3.9.6"
  },
  "orig_nbformat": 4
 },
 "nbformat": 4,
 "nbformat_minor": 2
}
